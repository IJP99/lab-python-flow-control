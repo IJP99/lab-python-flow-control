{
 "cells": [
  {
   "cell_type": "markdown",
   "id": "d3bfc191-8885-42ee-b0a0-bbab867c6f9f",
   "metadata": {
    "tags": []
   },
   "source": [
    "# Lab | Flow Control"
   ]
  },
  {
   "cell_type": "markdown",
   "id": "3851fcd1-cf98-4653-9c89-e003b7ec9400",
   "metadata": {},
   "source": [
    "## Exercise: Managing Customer Orders Optimized\n",
    "\n",
    "In the last lab, you were starting an online store that sells various products. To ensure smooth operations, you developed a program that manages customer orders and inventory.\n",
    "\n",
    "You did so without using flow control. Let's go a step further and improve this code.\n",
    "\n",
    "Follow the steps below to complete the exercise:\n",
    "\n",
    "1. Look at your code from the lab data structures, and improve repeated code with loops.\n",
    "\n",
    "2. Instead of asking the user to input the name of three products that a customer wants to order, do the following:\n",
    "    \n",
    "    a. Prompt the user to enter the name of a product that a customer wants to order.\n",
    "    \n",
    "    b. Add the product name to the \"customer_orders\" set.\n",
    "    \n",
    "    c. Ask the user if they want to add another product (yes/no).\n",
    "    \n",
    "    d. Continue the loop until the user does not want to add another product.\n",
    "\n",
    "3. Instead of updating the inventory by subtracting 1 from the quantity of each product, only do it for  the products that were ordered (those in \"customer_orders\")."
   ]
  },
  {
   "cell_type": "code",
   "execution_count": 1,
   "id": "3d028362-9958-4b70-ae20-d60746ebfbab",
   "metadata": {},
   "outputs": [],
   "source": [
    "#exercise 1 \"I have already used for loop in the original lab\""
   ]
  },
  {
   "cell_type": "code",
   "execution_count": 6,
   "id": "f958c3dd-7ccb-471b-84cd-6ed21f09f3cf",
   "metadata": {},
   "outputs": [
    {
     "name": "stdin",
     "output_type": "stream",
     "text": [
      "Select a products from our catalogue, product: mug\n",
      "Would you like to add another product to your order (yes/no) no\n"
     ]
    },
    {
     "name": "stdout",
     "output_type": "stream",
     "text": [
      "You have selected all your products\n",
      "{'mug'}\n"
     ]
    }
   ],
   "source": [
    "#exercise 2\n",
    "customer_orders = set()\n",
    "\n",
    "set_number = input(\"Select a products from our catalogue, product:\")\n",
    "while set_number != \"t-shirt\" and set_number != \"mug\" and set_number != \"hat\" and set_number != \"book\" and set_number != \"keychain\":\n",
    "    print(\"please choose between t-shirt, mug, hat, book or keychain\")\n",
    "    set_number = input(\"Select a products from our catalogue, product:\")\n",
    "\n",
    "customer_orders.add(set_number)\n",
    "\n",
    "another_prod = input(\"Would you like to add another product to your order (yes/no)\")\n",
    "while another_prod == \"yes\":\n",
    "    set_number = input(\"Select a products from our catalogue, product:\")\n",
    "    while set_number != \"t-shirt\" and set_number != \"mug\" and set_number != \"hat\" and set_number != \"book\" and set_number != \"keychain\":\n",
    "        print(\"please choose between t-shirt, mug, hat, book or keychain\")\n",
    "        set_number = input(\"Select a products from our catalogue, product:\")\n",
    "    customer_orders.add(set_number)\n",
    "    another_prod = input(\"Would you like to add another product to your order (yes/no)\")\n",
    "    \n",
    "if another_prod == \"no\":\n",
    "    print(\"You have selected all your products\")\n",
    "    print(customer_orders)"
   ]
  },
  {
   "cell_type": "code",
   "execution_count": 7,
   "id": "be5a5f35-1f89-44b5-b724-14adfdc5e7fa",
   "metadata": {},
   "outputs": [
    {
     "name": "stdin",
     "output_type": "stream",
     "text": [
      "Select the number you want of t-shirt:  3\n",
      "Select the number you want of mug:  3\n",
      "Select the number you want of hat:  3\n",
      "Select the number you want of book:  3\n",
      "Select the number you want of keychain:  3\n"
     ]
    },
    {
     "name": "stdout",
     "output_type": "stream",
     "text": [
      "{'t-shirt': '3', 'mug': '3', 'hat': '3', 'book': '3', 'keychain': '3'}\n"
     ]
    }
   ],
   "source": [
    "products = [\"t-shirt\", \"mug\", \"hat\", \"book\", \"keychain\"]\n",
    "inventory = {}\n",
    "for i in range(len(products)):\n",
    "    quantity = input(\"Select the number you want of \" + products[i] + \": \")\n",
    "    inventory[products[i]] = quantity\n",
    "\n",
    "print(inventory)"
   ]
  },
  {
   "cell_type": "code",
   "execution_count": 8,
   "id": "f4c58b08-2df8-4c00-a02d-e218a7478014",
   "metadata": {},
   "outputs": [
    {
     "name": "stdout",
     "output_type": "stream",
     "text": [
      "{'t-shirt': '3', 'mug': 2, 'hat': '3', 'book': '3', 'keychain': '3'}\n"
     ]
    }
   ],
   "source": [
    "#exercise 3\n",
    "for key, value in inventory.items():\n",
    "    if key in customer_orders:\n",
    "        inventory[key] = int(value) - 1\n",
    "\n",
    "print(inventory)"
   ]
  },
  {
   "cell_type": "code",
   "execution_count": null,
   "id": "b9f422c3-542c-47e6-af47-5ddee2791032",
   "metadata": {},
   "outputs": [],
   "source": []
  }
 ],
 "metadata": {
  "kernelspec": {
   "display_name": "Python 3 (ipykernel)",
   "language": "python",
   "name": "python3"
  },
  "language_info": {
   "codemirror_mode": {
    "name": "ipython",
    "version": 3
   },
   "file_extension": ".py",
   "mimetype": "text/x-python",
   "name": "python",
   "nbconvert_exporter": "python",
   "pygments_lexer": "ipython3",
   "version": "3.11.7"
  }
 },
 "nbformat": 4,
 "nbformat_minor": 5
}
